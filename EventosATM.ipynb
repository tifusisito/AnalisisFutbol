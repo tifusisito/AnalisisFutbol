{
 "cells": [
  {
   "cell_type": "markdown",
   "metadata": {},
   "source": [
    "Dataset provided by:\n",
    "\n",
    "- Pappalardo et al., (2019) A public data set of spatio-temporal match events in soccer competitions, Nature Scientific Data 6:236, https://www.nature.com/articles/s41597-019-0247-7\n",
    "\n",
    "- Pappalardo et al. (2019) PlayeRank: Data-driven Performance Evaluation and Player Ranking in Soccer via a Machine Learning Approach. ACM Transactions on Intellingent Systems and Technologies (TIST) 10, 5, Article 59 (September 2019), 27 pages. DOI: https://doi.org/10.1145/3343172\n",
    "\n",
    "https://www.nature.com/articles/s41597-019-0247-7#Tab1"
   ]
  },
  {
   "cell_type": "code",
   "execution_count": 1,
   "metadata": {},
   "outputs": [],
   "source": [
    "import pandas as pd"
   ]
  },
  {
   "cell_type": "code",
   "execution_count": 2,
   "metadata": {},
   "outputs": [
    {
     "name": "stdout",
     "output_type": "stream",
     "text": [
      "<class 'pandas.core.frame.DataFrame'>\n",
      "RangeIndex: 628659 entries, 0 to 628658\n",
      "Data columns (total 12 columns):\n",
      "eventId         628659 non-null int64\n",
      "subEventName    628659 non-null object\n",
      "tags            628659 non-null object\n",
      "playerId        628659 non-null int64\n",
      "positions       628659 non-null object\n",
      "matchId         628659 non-null int64\n",
      "eventName       628659 non-null object\n",
      "teamId          628659 non-null int64\n",
      "matchPeriod     628659 non-null object\n",
      "eventSec        628659 non-null float64\n",
      "subEventId      628659 non-null object\n",
      "id              628659 non-null int64\n",
      "dtypes: float64(1), int64(5), object(6)\n",
      "memory usage: 57.6+ MB\n"
     ]
    }
   ],
   "source": [
    "events = pd.read_json(r'C:\\Users\\modelical\\Desktop\\Football\\events_Spain.json')\n",
    "events.info()"
   ]
  },
  {
   "cell_type": "code",
   "execution_count": 3,
   "metadata": {},
   "outputs": [
    {
     "name": "stdout",
     "output_type": "stream",
     "text": [
      "<class 'pandas.core.frame.DataFrame'>\n",
      "RangeIndex: 142 entries, 0 to 141\n",
      "Data columns (total 6 columns):\n",
      "city            142 non-null object\n",
      "name            142 non-null object\n",
      "wyId            142 non-null int64\n",
      "officialName    142 non-null object\n",
      "area            142 non-null object\n",
      "type            142 non-null object\n",
      "dtypes: int64(1), object(5)\n",
      "memory usage: 6.8+ KB\n"
     ]
    },
    {
     "data": {
      "text/html": [
       "<div>\n",
       "<style scoped>\n",
       "    .dataframe tbody tr th:only-of-type {\n",
       "        vertical-align: middle;\n",
       "    }\n",
       "\n",
       "    .dataframe tbody tr th {\n",
       "        vertical-align: top;\n",
       "    }\n",
       "\n",
       "    .dataframe thead th {\n",
       "        text-align: right;\n",
       "    }\n",
       "</style>\n",
       "<table border=\"1\" class=\"dataframe\">\n",
       "  <thead>\n",
       "    <tr style=\"text-align: right;\">\n",
       "      <th></th>\n",
       "      <th>city</th>\n",
       "      <th>name</th>\n",
       "      <th>wyId</th>\n",
       "      <th>officialName</th>\n",
       "      <th>area</th>\n",
       "      <th>type</th>\n",
       "    </tr>\n",
       "  </thead>\n",
       "  <tbody>\n",
       "    <tr>\n",
       "      <td>10</td>\n",
       "      <td>Madrid</td>\n",
       "      <td>Atl\\u00e9tico Madrid</td>\n",
       "      <td>679</td>\n",
       "      <td>Club Atl\\u00e9tico de Madrid</td>\n",
       "      <td>{'name': 'Spain', 'id': '724', 'alpha3code': '...</td>\n",
       "      <td>club</td>\n",
       "    </tr>\n",
       "    <tr>\n",
       "      <td>14</td>\n",
       "      <td>Madrid</td>\n",
       "      <td>Real Madrid</td>\n",
       "      <td>675</td>\n",
       "      <td>Real Madrid Club de F\\u00fatbol</td>\n",
       "      <td>{'name': 'Spain', 'id': '724', 'alpha3code': '...</td>\n",
       "      <td>club</td>\n",
       "    </tr>\n",
       "  </tbody>\n",
       "</table>\n",
       "</div>"
      ],
      "text/plain": [
       "      city                  name  wyId                     officialName  \\\n",
       "10  Madrid  Atl\\u00e9tico Madrid   679     Club Atl\\u00e9tico de Madrid   \n",
       "14  Madrid           Real Madrid   675  Real Madrid Club de F\\u00fatbol   \n",
       "\n",
       "                                                 area  type  \n",
       "10  {'name': 'Spain', 'id': '724', 'alpha3code': '...  club  \n",
       "14  {'name': 'Spain', 'id': '724', 'alpha3code': '...  club  "
      ]
     },
     "execution_count": 3,
     "metadata": {},
     "output_type": "execute_result"
    }
   ],
   "source": [
    "teams = pd.read_json(r'C:\\Users\\modelical\\Desktop\\Football\\teams.json')\n",
    "teams.info()\n",
    "teams[teams.city == 'Madrid']"
   ]
  },
  {
   "cell_type": "code",
   "execution_count": 33,
   "metadata": {},
   "outputs": [
    {
     "data": {
      "image/png": "[encoded data removed]",
      "text/plain": [
       "<Figure size 432x288 with 1 Axes>"
      ]
     },
     "metadata": {
      "needs_background": "light"
     },
     "output_type": "display_data"
    }
   ],
   "source": [
    "import matplotlib.pyplot as plt\n",
    "from matplotlib.patches import Arc\n",
    "\n",
    "fig=plt.figure()\n",
    "#fig,ax = plt.subplots(figsize=(10.4,7.6))\n",
    "ax=fig.add_subplot(1,1,1)\n",
    "ax.axis('off')\n",
    "\n",
    "plt.plot([0,104],[0,0],color=\"black\")\n",
    "plt.plot([0,0],[76,0],color=\"black\")\n",
    "plt.plot([0,104],[76,76],color=\"black\")\n",
    "plt.plot([104,104],[76,0],color=\"black\")\n",
    "plt.plot([52,52],[0,76],color=\"black\")\n",
    "\n",
    "plt.plot([104,86.32],[60,60],color=\"black\")\n",
    "plt.plot([86.32,104],[16,16],color=\"black\")\n",
    "plt.plot([86.32,86.32],[60,16],color=\"black\")\n",
    "plt.plot([104,97.97],[48,48],color=\"black\")\n",
    "plt.plot([104,97.97],[27.968,27.968],color=\"black\")\n",
    "plt.plot([97.97,97.97],[48,27.968],color=\"black\")\n",
    "\n",
    "plt.plot([0,17.68],[60,60],color='black')\n",
    "plt.plot([0,17.68],[16,16],color='black')\n",
    "plt.plot([17.68,17.68],[16,60],color='black')\n",
    "plt.plot([0,6.03],[48,48],color='black')\n",
    "plt.plot([0,6.03],[27.968,27.968],color='black')\n",
    "plt.plot([6.03,6.03],[48,27.968],color='black')\n",
    "\n",
    "plt.plot([104,104],[34,42],color=\"red\")\n",
    "plt.plot([0,0],[34,42],color='red')\n",
    "\n",
    "penaltySpot = plt.Circle((92.04,38),0.25,color=\"black\")\n",
    "penaltySpotDF = plt.Circle((11,38),0.25,color='black')\n",
    "centreSpot = plt.Circle((52,38),0.5,color=\"black\")\n",
    "centreCircle = plt.Circle((52,38),10,color=\"black\",fill=False)\n",
    "\n",
    "D = Arc((92.04,38),height=20,width=20,angle=0,theta1=125,theta2=235,color=\"black\")\n",
    "E = Arc((11.96,38),height=20,width=20,angle=0,theta1=305,theta2=55,color=\"black\")\n",
    "\n",
    "ax.add_patch(centreSpot)\n",
    "ax.add_patch(centreCircle)\n",
    "ax.add_patch(penaltySpot)\n",
    "ax.add_patch(penaltySpotDF)\n",
    "ax.add_patch(D)\n",
    "ax.add_patch(E)\n",
    "\n",
    "plt.show()"
   ]
  },
  {
   "cell_type": "code",
   "execution_count": 5,
   "metadata": {},
   "outputs": [
    {
     "name": "stdout",
     "output_type": "stream",
     "text": [
      "<class 'pandas.core.frame.DataFrame'>\n",
      "RangeIndex: 380 entries, 0 to 379\n",
      "Data columns (total 14 columns):\n",
      "status           380 non-null object\n",
      "roundId          380 non-null int64\n",
      "gameweek         380 non-null int64\n",
      "teamsData        380 non-null object\n",
      "seasonId         380 non-null int64\n",
      "dateutc          380 non-null object\n",
      "winner           380 non-null int64\n",
      "venue            380 non-null object\n",
      "wyId             380 non-null int64\n",
      "label            380 non-null object\n",
      "date             380 non-null object\n",
      "referees         380 non-null object\n",
      "duration         380 non-null object\n",
      "competitionId    380 non-null int64\n",
      "dtypes: int64(6), object(8)\n",
      "memory usage: 41.7+ KB\n"
     ]
    },
    {
     "data": {
      "text/plain": [
       "16     2565913\n",
       "35     2565896\n",
       "62     2565860\n",
       "81     2565839\n",
       "103    2565824\n",
       "123    2565800\n",
       "131    2565789\n",
       "144    2565787\n",
       "158    2565776\n",
       "162    2565760\n",
       "174    2565755\n",
       "197    2565736\n",
       "210    2565727\n",
       "226    2565703\n",
       "233    2565697\n",
       "247    2565680\n",
       "255    2565669\n",
       "277    2565655\n",
       "294    2565637\n",
       "329    2565601\n",
       "336    2565589\n",
       "345    2565586\n",
       "364    2565562\n",
       "Name: wyId, dtype: int64"
      ]
     },
     "execution_count": 5,
     "metadata": {},
     "output_type": "execute_result"
    }
   ],
   "source": [
    "matches = pd.read_json(r'C:\\Users\\modelical\\Desktop\\Football\\matches_Spain.json')\n",
    "matches.info()\n",
    "ATMwin = matches[matches.winner == 679]['wyId']\n",
    "ATMwin"
   ]
  },
  {
   "cell_type": "code",
   "execution_count": 6,
   "metadata": {},
   "outputs": [
    {
     "name": "stdout",
     "output_type": "stream",
     "text": [
      "<class 'pandas.core.frame.DataFrame'>\n",
      "RangeIndex: 208 entries, 0 to 207\n",
      "Data columns (total 9 columns):\n",
      "wyId             208 non-null int64\n",
      "shortName        208 non-null object\n",
      "firstName        208 non-null object\n",
      "middleName       208 non-null object\n",
      "lastName         208 non-null object\n",
      "birthDate        206 non-null object\n",
      "birthArea        208 non-null object\n",
      "passportArea     208 non-null object\n",
      "currentTeamId    208 non-null int64\n",
      "dtypes: int64(2), object(7)\n",
      "memory usage: 14.8+ KB\n"
     ]
    }
   ],
   "source": [
    "coaches = pd.read_json(r'C:\\Users\\modelical\\Desktop\\Football\\coaches.json')\n",
    "coaches.info()"
   ]
  },
  {
   "cell_type": "code",
   "execution_count": 7,
   "metadata": {},
   "outputs": [
    {
     "name": "stdout",
     "output_type": "stream",
     "text": [
      "<class 'pandas.core.frame.DataFrame'>\n",
      "RangeIndex: 7 entries, 0 to 6\n",
      "Data columns (total 5 columns):\n",
      "name      7 non-null object\n",
      "wyId      7 non-null int64\n",
      "format    7 non-null object\n",
      "area      7 non-null object\n",
      "type      7 non-null object\n",
      "dtypes: int64(1), object(4)\n",
      "memory usage: 408.0+ bytes\n"
     ]
    }
   ],
   "source": [
    "competitions = pd.read_json(r'C:\\Users\\modelical\\Desktop\\Football\\competitions.json')\n",
    "competitions.info()"
   ]
  },
  {
   "cell_type": "code",
   "execution_count": 8,
   "metadata": {},
   "outputs": [],
   "source": [
    "# df = pd.read_json(r'C:\\Users\\modelical\\Desktop\\Football\\data.json')\n",
    "# df.info()"
   ]
  },
  {
   "cell_type": "code",
   "execution_count": 9,
   "metadata": {},
   "outputs": [
    {
     "name": "stdout",
     "output_type": "stream",
     "text": [
      "<class 'pandas.core.frame.DataFrame'>\n",
      "RangeIndex: 46897 entries, 0 to 46896\n",
      "Data columns (total 6 columns):\n",
      "goalScored        46897 non-null int64\n",
      "playerankScore    46897 non-null float64\n",
      "matchId           46897 non-null int64\n",
      "playerId          46897 non-null int64\n",
      "roleCluster       46897 non-null object\n",
      "minutesPlayed     46897 non-null int64\n",
      "dtypes: float64(1), int64(4), object(1)\n",
      "memory usage: 2.1+ MB\n"
     ]
    }
   ],
   "source": [
    "playerank = pd.read_json(r'C:\\Users\\modelical\\Desktop\\Football\\playerank.json')\n",
    "playerank.info()"
   ]
  },
  {
   "cell_type": "code",
   "execution_count": 10,
   "metadata": {},
   "outputs": [
    {
     "name": "stdout",
     "output_type": "stream",
     "text": [
      "<class 'pandas.core.frame.DataFrame'>\n",
      "RangeIndex: 3603 entries, 0 to 3602\n",
      "Data columns (total 14 columns):\n",
      "passportArea             3603 non-null object\n",
      "weight                   3603 non-null int64\n",
      "firstName                3603 non-null object\n",
      "middleName               3603 non-null object\n",
      "lastName                 3603 non-null object\n",
      "currentTeamId            3512 non-null object\n",
      "birthDate                3603 non-null object\n",
      "height                   3603 non-null int64\n",
      "role                     3603 non-null object\n",
      "birthArea                3603 non-null object\n",
      "wyId                     3603 non-null int64\n",
      "foot                     3603 non-null object\n",
      "shortName                3603 non-null object\n",
      "currentNationalTeamId    3603 non-null object\n",
      "dtypes: int64(3), object(11)\n",
      "memory usage: 394.2+ KB\n"
     ]
    }
   ],
   "source": [
    "players = pd.read_json(r'C:\\Users\\modelical\\Desktop\\Football\\players.json')\n",
    "players.info()"
   ]
  },
  {
   "cell_type": "code",
   "execution_count": 20,
   "metadata": {},
   "outputs": [
    {
     "data": {
      "text/html": [
       "<div>\n",
       "<style scoped>\n",
       "    .dataframe tbody tr th:only-of-type {\n",
       "        vertical-align: middle;\n",
       "    }\n",
       "\n",
       "    .dataframe tbody tr th {\n",
       "        vertical-align: top;\n",
       "    }\n",
       "\n",
       "    .dataframe thead th {\n",
       "        text-align: right;\n",
       "    }\n",
       "</style>\n",
       "<table border=\"1\" class=\"dataframe\">\n",
       "  <thead>\n",
       "    <tr style=\"text-align: right;\">\n",
       "      <th></th>\n",
       "      <th>wyId</th>\n",
       "      <th>shortName</th>\n",
       "    </tr>\n",
       "  </thead>\n",
       "  <tbody>\n",
       "    <tr>\n",
       "      <td>0</td>\n",
       "      <td>32777</td>\n",
       "      <td>H. Tekin</td>\n",
       "    </tr>\n",
       "    <tr>\n",
       "      <td>1</td>\n",
       "      <td>393228</td>\n",
       "      <td>M. Sarr</td>\n",
       "    </tr>\n",
       "    <tr>\n",
       "      <td>2</td>\n",
       "      <td>393230</td>\n",
       "      <td>O. Mandanda</td>\n",
       "    </tr>\n",
       "    <tr>\n",
       "      <td>3</td>\n",
       "      <td>32793</td>\n",
       "      <td>A. N'Diaye</td>\n",
       "    </tr>\n",
       "    <tr>\n",
       "      <td>4</td>\n",
       "      <td>393247</td>\n",
       "      <td>I. Konat\\u00e9</td>\n",
       "    </tr>\n",
       "    <tr>\n",
       "      <td>...</td>\n",
       "      <td>...</td>\n",
       "      <td>...</td>\n",
       "    </tr>\n",
       "    <tr>\n",
       "      <td>3598</td>\n",
       "      <td>120839</td>\n",
       "      <td>A. Ma\\u00e2loul</td>\n",
       "    </tr>\n",
       "    <tr>\n",
       "      <td>3599</td>\n",
       "      <td>114736</td>\n",
       "      <td>C. C\\u00e1ceda</td>\n",
       "    </tr>\n",
       "    <tr>\n",
       "      <td>3600</td>\n",
       "      <td>114908</td>\n",
       "      <td>M. Araujo</td>\n",
       "    </tr>\n",
       "    <tr>\n",
       "      <td>3601</td>\n",
       "      <td>285583</td>\n",
       "      <td>A. Tagnaouti</td>\n",
       "    </tr>\n",
       "    <tr>\n",
       "      <td>3602</td>\n",
       "      <td>361536</td>\n",
       "      <td>R. Avila</td>\n",
       "    </tr>\n",
       "  </tbody>\n",
       "</table>\n",
       "<p>3603 rows × 2 columns</p>\n",
       "</div>"
      ],
      "text/plain": [
       "        wyId        shortName\n",
       "0      32777         H. Tekin\n",
       "1     393228          M. Sarr\n",
       "2     393230      O. Mandanda\n",
       "3      32793       A. N'Diaye\n",
       "4     393247   I. Konat\\u00e9\n",
       "...      ...              ...\n",
       "3598  120839  A. Ma\\u00e2loul\n",
       "3599  114736   C. C\\u00e1ceda\n",
       "3600  114908        M. Araujo\n",
       "3601  285583     A. Tagnaouti\n",
       "3602  361536         R. Avila\n",
       "\n",
       "[3603 rows x 2 columns]"
      ]
     },
     "execution_count": 20,
     "metadata": {},
     "output_type": "execute_result"
    }
   ],
   "source": [
    "playersNames = players.filter(items=['wyId', 'shortName'])\n",
    "playersNames"
   ]
  },
  {
   "cell_type": "code",
   "execution_count": 11,
   "metadata": {},
   "outputs": [],
   "source": [
    "# referees = pd.read_json(r'C:\\Users\\modelical\\Desktop\\Football\\referees.json')\n",
    "# referees.info()"
   ]
  },
  {
   "attachments": {
    "image.png": {
     "image/png": "[encoded data removed]"
    }
   },
   "cell_type": "markdown",
   "metadata": {},
   "source": [
    "![image.png](attachment:image.png)"
   ]
  },
  {
   "cell_type": "code",
   "execution_count": 12,
   "metadata": {},
   "outputs": [
    {
     "name": "stdout",
     "output_type": "stream",
     "text": [
      "<class 'pandas.core.frame.DataFrame'>\n",
      "RangeIndex: 628659 entries, 0 to 628658\n",
      "Data columns (total 12 columns):\n",
      "eventId         628659 non-null int64\n",
      "subEventName    628659 non-null object\n",
      "tags            628659 non-null object\n",
      "playerId        628659 non-null int64\n",
      "positions       628659 non-null object\n",
      "matchId         628659 non-null int64\n",
      "eventName       628659 non-null object\n",
      "teamId          628659 non-null int64\n",
      "matchPeriod     628659 non-null object\n",
      "eventSec        628659 non-null float64\n",
      "subEventId      628659 non-null object\n",
      "id              628659 non-null int64\n",
      "dtypes: float64(1), int64(5), object(6)\n",
      "memory usage: 57.6+ MB\n"
     ]
    },
    {
     "data": {
      "text/html": [
       "<div>\n",
       "<style scoped>\n",
       "    .dataframe tbody tr th:only-of-type {\n",
       "        vertical-align: middle;\n",
       "    }\n",
       "\n",
       "    .dataframe tbody tr th {\n",
       "        vertical-align: top;\n",
       "    }\n",
       "\n",
       "    .dataframe thead th {\n",
       "        text-align: right;\n",
       "    }\n",
       "</style>\n",
       "<table border=\"1\" class=\"dataframe\">\n",
       "  <thead>\n",
       "    <tr style=\"text-align: right;\">\n",
       "      <th></th>\n",
       "      <th>eventId</th>\n",
       "      <th>subEventName</th>\n",
       "      <th>tags</th>\n",
       "      <th>playerId</th>\n",
       "      <th>positions</th>\n",
       "      <th>matchId</th>\n",
       "      <th>eventName</th>\n",
       "      <th>teamId</th>\n",
       "      <th>matchPeriod</th>\n",
       "      <th>eventSec</th>\n",
       "      <th>subEventId</th>\n",
       "      <th>id</th>\n",
       "    </tr>\n",
       "  </thead>\n",
       "  <tbody>\n",
       "    <tr>\n",
       "      <td>603692</td>\n",
       "      <td>8</td>\n",
       "      <td>Simple pass</td>\n",
       "      <td>[{'id': 1801}]</td>\n",
       "      <td>3443</td>\n",
       "      <td>[{'y': 50, 'x': 50}, {'y': 47, 'x': 34}]</td>\n",
       "      <td>2565913</td>\n",
       "      <td>Pass</td>\n",
       "      <td>679</td>\n",
       "      <td>1H</td>\n",
       "      <td>0.506186</td>\n",
       "      <td>85</td>\n",
       "      <td>251291521</td>\n",
       "    </tr>\n",
       "    <tr>\n",
       "      <td>603693</td>\n",
       "      <td>8</td>\n",
       "      <td>Simple pass</td>\n",
       "      <td>[{'id': 1801}]</td>\n",
       "      <td>217031</td>\n",
       "      <td>[{'y': 47, 'x': 34}, {'y': 81, 'x': 34}]</td>\n",
       "      <td>2565913</td>\n",
       "      <td>Pass</td>\n",
       "      <td>679</td>\n",
       "      <td>1H</td>\n",
       "      <td>3.569042</td>\n",
       "      <td>85</td>\n",
       "      <td>251291522</td>\n",
       "    </tr>\n",
       "    <tr>\n",
       "      <td>603694</td>\n",
       "      <td>8</td>\n",
       "      <td>Simple pass</td>\n",
       "      <td>[{'id': 1801}]</td>\n",
       "      <td>3441</td>\n",
       "      <td>[{'y': 81, 'x': 34}, {'y': 57, 'x': 30}]</td>\n",
       "      <td>2565913</td>\n",
       "      <td>Pass</td>\n",
       "      <td>679</td>\n",
       "      <td>1H</td>\n",
       "      <td>5.415389</td>\n",
       "      <td>85</td>\n",
       "      <td>251291523</td>\n",
       "    </tr>\n",
       "    <tr>\n",
       "      <td>603695</td>\n",
       "      <td>8</td>\n",
       "      <td>Simple pass</td>\n",
       "      <td>[{'id': 1801}]</td>\n",
       "      <td>8311</td>\n",
       "      <td>[{'y': 57, 'x': 30}, {'y': 29, 'x': 35}]</td>\n",
       "      <td>2565913</td>\n",
       "      <td>Pass</td>\n",
       "      <td>679</td>\n",
       "      <td>1H</td>\n",
       "      <td>7.860204</td>\n",
       "      <td>85</td>\n",
       "      <td>251291524</td>\n",
       "    </tr>\n",
       "    <tr>\n",
       "      <td>603696</td>\n",
       "      <td>8</td>\n",
       "      <td>High pass</td>\n",
       "      <td>[{'id': 1801}]</td>\n",
       "      <td>3433</td>\n",
       "      <td>[{'y': 29, 'x': 35}, {'y': 34, 'x': 58}]</td>\n",
       "      <td>2565913</td>\n",
       "      <td>Pass</td>\n",
       "      <td>679</td>\n",
       "      <td>1H</td>\n",
       "      <td>10.733930</td>\n",
       "      <td>83</td>\n",
       "      <td>251291525</td>\n",
       "    </tr>\n",
       "    <tr>\n",
       "      <td>...</td>\n",
       "      <td>...</td>\n",
       "      <td>...</td>\n",
       "      <td>...</td>\n",
       "      <td>...</td>\n",
       "      <td>...</td>\n",
       "      <td>...</td>\n",
       "      <td>...</td>\n",
       "      <td>...</td>\n",
       "      <td>...</td>\n",
       "      <td>...</td>\n",
       "      <td>...</td>\n",
       "      <td>...</td>\n",
       "    </tr>\n",
       "    <tr>\n",
       "      <td>605341</td>\n",
       "      <td>8</td>\n",
       "      <td>Simple pass</td>\n",
       "      <td>[{'id': 1801}]</td>\n",
       "      <td>3434</td>\n",
       "      <td>[{'y': 8, 'x': 56}, {'y': 16, 'x': 60}]</td>\n",
       "      <td>2565913</td>\n",
       "      <td>Pass</td>\n",
       "      <td>679</td>\n",
       "      <td>2H</td>\n",
       "      <td>2781.977082</td>\n",
       "      <td>85</td>\n",
       "      <td>251293294</td>\n",
       "    </tr>\n",
       "    <tr>\n",
       "      <td>605345</td>\n",
       "      <td>8</td>\n",
       "      <td>Head pass</td>\n",
       "      <td>[{'id': 1801}]</td>\n",
       "      <td>3433</td>\n",
       "      <td>[{'y': 34, 'x': 23}, {'y': 36, 'x': 12}]</td>\n",
       "      <td>2565913</td>\n",
       "      <td>Pass</td>\n",
       "      <td>679</td>\n",
       "      <td>2H</td>\n",
       "      <td>2796.320930</td>\n",
       "      <td>82</td>\n",
       "      <td>251293296</td>\n",
       "    </tr>\n",
       "    <tr>\n",
       "      <td>605346</td>\n",
       "      <td>8</td>\n",
       "      <td>Launch</td>\n",
       "      <td>[{'id': 1801}]</td>\n",
       "      <td>70273</td>\n",
       "      <td>[{'y': 36, 'x': 12}, {'y': 35, 'x': 66}]</td>\n",
       "      <td>2565913</td>\n",
       "      <td>Pass</td>\n",
       "      <td>679</td>\n",
       "      <td>2H</td>\n",
       "      <td>2808.496932</td>\n",
       "      <td>84</td>\n",
       "      <td>251293297</td>\n",
       "    </tr>\n",
       "    <tr>\n",
       "      <td>605352</td>\n",
       "      <td>8</td>\n",
       "      <td>Launch</td>\n",
       "      <td>[{'id': 1802}]</td>\n",
       "      <td>70273</td>\n",
       "      <td>[{'y': 35, 'x': 15}, {'y': 38, 'x': 69}]</td>\n",
       "      <td>2565913</td>\n",
       "      <td>Pass</td>\n",
       "      <td>679</td>\n",
       "      <td>2H</td>\n",
       "      <td>2836.330534</td>\n",
       "      <td>84</td>\n",
       "      <td>251293300</td>\n",
       "    </tr>\n",
       "    <tr>\n",
       "      <td>605354</td>\n",
       "      <td>8</td>\n",
       "      <td>Head pass</td>\n",
       "      <td>[{'id': 1801}]</td>\n",
       "      <td>3434</td>\n",
       "      <td>[{'y': 18, 'x': 45}, {'y': 26, 'x': 66}]</td>\n",
       "      <td>2565913</td>\n",
       "      <td>Pass</td>\n",
       "      <td>679</td>\n",
       "      <td>2H</td>\n",
       "      <td>2841.595204</td>\n",
       "      <td>82</td>\n",
       "      <td>251293301</td>\n",
       "    </tr>\n",
       "  </tbody>\n",
       "</table>\n",
       "<p>378 rows × 12 columns</p>\n",
       "</div>"
      ],
      "text/plain": [
       "        eventId subEventName            tags  playerId  \\\n",
       "603692        8  Simple pass  [{'id': 1801}]      3443   \n",
       "603693        8  Simple pass  [{'id': 1801}]    217031   \n",
       "603694        8  Simple pass  [{'id': 1801}]      3441   \n",
       "603695        8  Simple pass  [{'id': 1801}]      8311   \n",
       "603696        8    High pass  [{'id': 1801}]      3433   \n",
       "...         ...          ...             ...       ...   \n",
       "605341        8  Simple pass  [{'id': 1801}]      3434   \n",
       "605345        8    Head pass  [{'id': 1801}]      3433   \n",
       "605346        8       Launch  [{'id': 1801}]     70273   \n",
       "605352        8       Launch  [{'id': 1802}]     70273   \n",
       "605354        8    Head pass  [{'id': 1801}]      3434   \n",
       "\n",
       "                                       positions  matchId eventName  teamId  \\\n",
       "603692  [{'y': 50, 'x': 50}, {'y': 47, 'x': 34}]  2565913      Pass     679   \n",
       "603693  [{'y': 47, 'x': 34}, {'y': 81, 'x': 34}]  2565913      Pass     679   \n",
       "603694  [{'y': 81, 'x': 34}, {'y': 57, 'x': 30}]  2565913      Pass     679   \n",
       "603695  [{'y': 57, 'x': 30}, {'y': 29, 'x': 35}]  2565913      Pass     679   \n",
       "603696  [{'y': 29, 'x': 35}, {'y': 34, 'x': 58}]  2565913      Pass     679   \n",
       "...                                          ...      ...       ...     ...   \n",
       "605341   [{'y': 8, 'x': 56}, {'y': 16, 'x': 60}]  2565913      Pass     679   \n",
       "605345  [{'y': 34, 'x': 23}, {'y': 36, 'x': 12}]  2565913      Pass     679   \n",
       "605346  [{'y': 36, 'x': 12}, {'y': 35, 'x': 66}]  2565913      Pass     679   \n",
       "605352  [{'y': 35, 'x': 15}, {'y': 38, 'x': 69}]  2565913      Pass     679   \n",
       "605354  [{'y': 18, 'x': 45}, {'y': 26, 'x': 66}]  2565913      Pass     679   \n",
       "\n",
       "       matchPeriod     eventSec subEventId         id  \n",
       "603692          1H     0.506186         85  251291521  \n",
       "603693          1H     3.569042         85  251291522  \n",
       "603694          1H     5.415389         85  251291523  \n",
       "603695          1H     7.860204         85  251291524  \n",
       "603696          1H    10.733930         83  251291525  \n",
       "...            ...          ...        ...        ...  \n",
       "605341          2H  2781.977082         85  251293294  \n",
       "605345          2H  2796.320930         82  251293296  \n",
       "605346          2H  2808.496932         84  251293297  \n",
       "605352          2H  2836.330534         84  251293300  \n",
       "605354          2H  2841.595204         82  251293301  \n",
       "\n",
       "[378 rows x 12 columns]"
      ]
     },
     "execution_count": 12,
     "metadata": {},
     "output_type": "execute_result"
    }
   ],
   "source": [
    "events.info()\n",
    "ATMMatch = events[events.matchId == 2565913]\n",
    "ATMEvents = ATMMatch[ATMMatch.teamId == 679]\n",
    "ATMPasses = ATMEvents[ATMEvents.eventName == 'Pass']\n",
    "ATMPasses"
   ]
  },
  {
   "cell_type": "code",
   "execution_count": 18,
   "metadata": {},
   "outputs": [
    {
     "data": {
      "text/plain": [
       "array(['Simple pass', 'High pass', 'Smart pass', 'Launch', 'Head pass',\n",
       "       'Cross'], dtype=object)"
      ]
     },
     "execution_count": 18,
     "metadata": {},
     "output_type": "execute_result"
    }
   ],
   "source": [
    "ATMPasses.subEventName.unique()"
   ]
  },
  {
   "cell_type": "code",
   "execution_count": 42,
   "metadata": {},
   "outputs": [
    {
     "data": {
      "text/plain": [
       "array(['Pass', 'Duel', 'Interruption', 'Free Kick', 'Others on the ball',\n",
       "       'Foul', 'Shot', 'Save attempt', 'Offside'], dtype=object)"
      ]
     },
     "execution_count": 42,
     "metadata": {},
     "output_type": "execute_result"
    }
   ],
   "source": [
    "ATMEvents.eventName.unique()"
   ]
  },
  {
   "cell_type": "code",
   "execution_count": 26,
   "metadata": {},
   "outputs": [],
   "source": [
    "ATMPassesNames = ATMPasses.join(playersNames.set_index('wyId'), on='playerId')\n",
    "\n",
    "PlayerPasses = ATMPassesNames[ATMPassesNames.shortName == 'Koke']"
   ]
  },
  {
   "cell_type": "code",
   "execution_count": 29,
   "metadata": {},
   "outputs": [
    {
     "data": {
      "image/png": "[encoded data removed]",
      "text/plain": [
       "<Figure size 432x288 with 1 Axes>"
      ]
     },
     "metadata": {
      "needs_background": "light"
     },
     "output_type": "display_data"
    }
   ],
   "source": [
    "ATMPassPositions = PlayerPasses.positions\n",
    "p1 = []\n",
    "p2 = []\n",
    "x1 = []\n",
    "x2 = []\n",
    "y1 = []\n",
    "y2 = []\n",
    "for i in ATMPassPositions.values:\n",
    "    p1.append(i[0])\n",
    "    p2.append(i[1])\n",
    "for p in p1:\n",
    "    x1.append(p['x'])\n",
    "    y1.append(p['y'])\n",
    "for p in p2:\n",
    "    x2.append(p['x'])\n",
    "    y2.append(p['y'])\n",
    "    \n",
    "plt.plot([x1,x2],[y1,y2],color='green',linewidth=1, linestyle='dashed')\n",
    "plt.show()"
   ]
  },
  {
   "cell_type": "code",
   "execution_count": 31,
   "metadata": {},
   "outputs": [
    {
     "data": {
      "text/html": [
       "<div>\n",
       "<style scoped>\n",
       "    .dataframe tbody tr th:only-of-type {\n",
       "        vertical-align: middle;\n",
       "    }\n",
       "\n",
       "    .dataframe tbody tr th {\n",
       "        vertical-align: top;\n",
       "    }\n",
       "\n",
       "    .dataframe thead th {\n",
       "        text-align: right;\n",
       "    }\n",
       "</style>\n",
       "<table border=\"1\" class=\"dataframe\">\n",
       "  <thead>\n",
       "    <tr style=\"text-align: right;\">\n",
       "      <th></th>\n",
       "      <th>eventId</th>\n",
       "      <th>subEventName</th>\n",
       "      <th>tags</th>\n",
       "      <th>playerId</th>\n",
       "      <th>positions</th>\n",
       "      <th>matchId</th>\n",
       "      <th>eventName</th>\n",
       "      <th>teamId</th>\n",
       "      <th>matchPeriod</th>\n",
       "      <th>eventSec</th>\n",
       "      <th>subEventId</th>\n",
       "      <th>id</th>\n",
       "    </tr>\n",
       "  </thead>\n",
       "  <tbody>\n",
       "    <tr>\n",
       "      <td>603875</td>\n",
       "      <td>10</td>\n",
       "      <td>Shot</td>\n",
       "      <td>[{'id': 101}, {'id': 402}, {'id': 201}, {'id':...</td>\n",
       "      <td>3443</td>\n",
       "      <td>[{'y': 65, 'x': 87}, {'y': 100, 'x': 100}]</td>\n",
       "      <td>2565913</td>\n",
       "      <td>Shot</td>\n",
       "      <td>679</td>\n",
       "      <td>1H</td>\n",
       "      <td>469.210093</td>\n",
       "      <td>100</td>\n",
       "      <td>251291693</td>\n",
       "    </tr>\n",
       "    <tr>\n",
       "      <td>604201</td>\n",
       "      <td>10</td>\n",
       "      <td>Shot</td>\n",
       "      <td>[{'id': 402}, {'id': 201}, {'id': 1201}, {'id'...</td>\n",
       "      <td>4338</td>\n",
       "      <td>[{'y': 37, 'x': 90}, {'y': 100, 'x': 100}]</td>\n",
       "      <td>2565913</td>\n",
       "      <td>Shot</td>\n",
       "      <td>679</td>\n",
       "      <td>1H</td>\n",
       "      <td>1537.592541</td>\n",
       "      <td>100</td>\n",
       "      <td>251292120</td>\n",
       "    </tr>\n",
       "    <tr>\n",
       "      <td>604860</td>\n",
       "      <td>10</td>\n",
       "      <td>Shot</td>\n",
       "      <td>[{'id': 402}, {'id': 1212}, {'id': 1802}]</td>\n",
       "      <td>3441</td>\n",
       "      <td>[{'y': 44, 'x': 76}, {'y': 100, 'x': 100}]</td>\n",
       "      <td>2565913</td>\n",
       "      <td>Shot</td>\n",
       "      <td>679</td>\n",
       "      <td>2H</td>\n",
       "      <td>1169.246711</td>\n",
       "      <td>100</td>\n",
       "      <td>251292892</td>\n",
       "    </tr>\n",
       "    <tr>\n",
       "      <td>605226</td>\n",
       "      <td>10</td>\n",
       "      <td>Shot</td>\n",
       "      <td>[{'id': 402}, {'id': 201}, {'id': 1216}, {'id'...</td>\n",
       "      <td>7908</td>\n",
       "      <td>[{'y': 43, 'x': 88}, {'y': 100, 'x': 100}]</td>\n",
       "      <td>2565913</td>\n",
       "      <td>Shot</td>\n",
       "      <td>679</td>\n",
       "      <td>2H</td>\n",
       "      <td>2416.324133</td>\n",
       "      <td>100</td>\n",
       "      <td>251293200</td>\n",
       "    </tr>\n",
       "    <tr>\n",
       "      <td>605284</td>\n",
       "      <td>10</td>\n",
       "      <td>Shot</td>\n",
       "      <td>[{'id': 1901}, {'id': 402}, {'id': 1203}, {'id...</td>\n",
       "      <td>25445</td>\n",
       "      <td>[{'y': 65, 'x': 89}, {'y': 100, 'x': 100}]</td>\n",
       "      <td>2565913</td>\n",
       "      <td>Shot</td>\n",
       "      <td>679</td>\n",
       "      <td>2H</td>\n",
       "      <td>2595.285220</td>\n",
       "      <td>100</td>\n",
       "      <td>251293255</td>\n",
       "    </tr>\n",
       "  </tbody>\n",
       "</table>\n",
       "</div>"
      ],
      "text/plain": [
       "        eventId subEventName  \\\n",
       "603875       10         Shot   \n",
       "604201       10         Shot   \n",
       "604860       10         Shot   \n",
       "605226       10         Shot   \n",
       "605284       10         Shot   \n",
       "\n",
       "                                                     tags  playerId  \\\n",
       "603875  [{'id': 101}, {'id': 402}, {'id': 201}, {'id':...      3443   \n",
       "604201  [{'id': 402}, {'id': 201}, {'id': 1201}, {'id'...      4338   \n",
       "604860          [{'id': 402}, {'id': 1212}, {'id': 1802}]      3441   \n",
       "605226  [{'id': 402}, {'id': 201}, {'id': 1216}, {'id'...      7908   \n",
       "605284  [{'id': 1901}, {'id': 402}, {'id': 1203}, {'id...     25445   \n",
       "\n",
       "                                         positions  matchId eventName  teamId  \\\n",
       "603875  [{'y': 65, 'x': 87}, {'y': 100, 'x': 100}]  2565913      Shot     679   \n",
       "604201  [{'y': 37, 'x': 90}, {'y': 100, 'x': 100}]  2565913      Shot     679   \n",
       "604860  [{'y': 44, 'x': 76}, {'y': 100, 'x': 100}]  2565913      Shot     679   \n",
       "605226  [{'y': 43, 'x': 88}, {'y': 100, 'x': 100}]  2565913      Shot     679   \n",
       "605284  [{'y': 65, 'x': 89}, {'y': 100, 'x': 100}]  2565913      Shot     679   \n",
       "\n",
       "       matchPeriod     eventSec subEventId         id  \n",
       "603875          1H   469.210093        100  251291693  \n",
       "604201          1H  1537.592541        100  251292120  \n",
       "604860          2H  1169.246711        100  251292892  \n",
       "605226          2H  2416.324133        100  251293200  \n",
       "605284          2H  2595.285220        100  251293255  "
      ]
     },
     "execution_count": 31,
     "metadata": {},
     "output_type": "execute_result"
    }
   ],
   "source": [
    "ATMShots = ATMEvents[ATMEvents.eventName == 'Shot']\n",
    "ATMShots"
   ]
  },
  {
   "cell_type": "code",
   "execution_count": 39,
   "metadata": {},
   "outputs": [
    {
     "data": {
      "image/png": "[encoded data removed]",
      "text/plain": [
       "<Figure size 432x288 with 1 Axes>"
      ]
     },
     "metadata": {
      "needs_background": "light"
     },
     "output_type": "display_data"
    }
   ],
   "source": [
    "ATMShotsNames = ATMShots.join(playersNames.set_index('wyId'), on='playerId')\n",
    "\n",
    "ATMShotsPositions = ATMShotsNames.positions\n",
    "p1 = []\n",
    "p2 = []\n",
    "x1 = []\n",
    "x2 = []\n",
    "y1 = []\n",
    "y2 = []\n",
    "for i in ATMShotsPositions.values:\n",
    "    p1.append(i[0])\n",
    "    p2.append(i[1])\n",
    "for p in p1:\n",
    "    x1.append(p['x'])\n",
    "    y1.append(p['y'])\n",
    "for p in p2:\n",
    "    x2.append(p['x'])\n",
    "    y2.append(p['y'])\n",
    "    \n",
    "plt.plot([x1,x2],[y1,y2],color='red',linewidth=1, linestyle='dashed')\n",
    "plt.show()"
   ]
  },
  {
   "cell_type": "code",
   "execution_count": 15,
   "metadata": {},
   "outputs": [
    {
     "data": {
      "text/plain": [
       "380"
      ]
     },
     "execution_count": 15,
     "metadata": {},
     "output_type": "execute_result"
    }
   ],
   "source": [
    "len(events.matchId.unique())"
   ]
  },
  {
   "cell_type": "code",
   "execution_count": null,
   "metadata": {},
   "outputs": [],
   "source": []
  },
  {
   "cell_type": "code",
   "execution_count": 32,
   "metadata": {},
   "outputs": [
    {
     "ename": "NameError",
     "evalue": "name 'df' is not defined",
     "output_type": "error",
     "traceback": [
      "\u001b[1;31m---------------------------------------------------------------------------\u001b[0m",
      "\u001b[1;31mNameError\u001b[0m                                 Traceback (most recent call last)",
      "\u001b[1;32m<ipython-input-32-6eddb10cfd00>\u001b[0m in \u001b[0;36m<module>\u001b[1;34m\u001b[0m\n\u001b[1;32m----> 1\u001b[1;33m \u001b[0mdf\u001b[0m\u001b[1;33m.\u001b[0m\u001b[0meventName\u001b[0m\u001b[1;33m.\u001b[0m\u001b[0munique\u001b[0m\u001b[1;33m(\u001b[0m\u001b[1;33m)\u001b[0m\u001b[1;33m\u001b[0m\u001b[1;33m\u001b[0m\u001b[0m\n\u001b[0m",
      "\u001b[1;31mNameError\u001b[0m: name 'df' is not defined"
     ]
    }
   ],
   "source": []
  },
  {
   "cell_type": "code",
   "execution_count": 43,
   "metadata": {},
   "outputs": [
    {
     "data": {
      "image/png": "[encoded data removed]",
      "text/plain": [
       "<Figure size 432x288 with 1 Axes>"
      ]
     },
     "metadata": {
      "needs_background": "light"
     },
     "output_type": "display_data"
    }
   ],
   "source": []
  },
  {
   "cell_type": "code",
   "execution_count": null,
   "metadata": {},
   "outputs": [],
   "source": []
  }
 ],
 "metadata": {
  "kernelspec": {
   "display_name": "Python 3",
   "language": "python",
   "name": "python3"
  },
  "language_info": {
   "codemirror_mode": {
    "name": "ipython",
    "version": 3
   },
   "file_extension": ".py",
   "mimetype": "text/x-python",
   "name": "python",
   "nbconvert_exporter": "python",
   "pygments_lexer": "ipython3",
   "version": "3.7.1"
  }
 },
 "nbformat": 4,
 "nbformat_minor": 2
}
